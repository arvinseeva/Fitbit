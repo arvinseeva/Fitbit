{
 "cells": [
  {
   "cell_type": "code",
   "execution_count": 1,
   "metadata": {},
   "outputs": [],
   "source": [
    "#This Jupyter Notebook is a result of our collaboration\n",
    "import pandas as pd\n",
    "import os\n"
   ]
  },
  {
   "cell_type": "code",
   "execution_count": 2,
   "metadata": {},
   "outputs": [],
   "source": [
    "folder = 'Resources'\n",
    "\n",
    "df_20 = pd.read_csv(os.path.join(folder,'2020.csv'))\n",
    "df_19 = pd.read_csv(os.path.join(folder,'2019.csv'))\n",
    "df_18 = pd.read_csv(os.path.join(folder,'2018.csv'))\n",
    "df_17 = pd.read_csv(os.path.join(folder,'2017.csv'))\n",
    "df_16 = pd.read_csv(os.path.join(folder,'2016.csv'))\n",
    "df_15 = pd.read_csv(os.path.join(folder,'2015.csv'))"
   ]
  },
  {
   "cell_type": "code",
   "execution_count": 3,
   "metadata": {},
   "outputs": [
    {
     "output_type": "execute_result",
     "data": {
      "text/plain": "                 Country name  Regional indicator  Score Y20    GDP Y20  \\\n0                     Finland      Western Europe     7.8087  10.639267   \n1                     Denmark      Western Europe     7.6456  10.774001   \n2                 Switzerland      Western Europe     7.5599  10.979933   \n3                     Iceland      Western Europe     7.5045  10.772559   \n4                      Norway      Western Europe     7.4880  11.087804   \n..                        ...                 ...        ...        ...   \n148  Central African Republic  Sub-Saharan Africa     3.4759   6.625160   \n149                    Rwanda  Sub-Saharan Africa     3.3123   7.600104   \n150                  Zimbabwe  Sub-Saharan Africa     3.2992   7.865712   \n151               South Sudan  Sub-Saharan Africa     2.8166   7.425360   \n152               Afghanistan          South Asia     2.5669   7.462861   \n\n     Social support Y20  Life expectancy Y20  Freedom Y20  Generosity Y20  \\\n0              0.954330            71.900825     0.949172       -0.059482   \n1              0.955991            72.402504     0.951444        0.066202   \n2              0.942847            74.102448     0.921337        0.105911   \n3              0.974670            73.000000     0.948892        0.246944   \n4              0.952487            73.200783     0.955750        0.134533   \n..                  ...                  ...          ...             ...   \n148            0.319460            45.200001     0.640881        0.082410   \n149            0.540835            61.098846     0.900589        0.055484   \n150            0.763093            55.617260     0.711458       -0.072064   \n151            0.553707            51.000000     0.451314        0.016519   \n152            0.470367            52.590000     0.396573       -0.096429   \n\n     Corruption Y20  Score Y19  ...  Life Expectancy Y16  Freedom Y16  \\\n0          0.195445      7.769  ...              0.81091      0.57104   \n1          0.168489      7.600  ...              0.79504      0.57941   \n2          0.303728      7.480  ...              0.86303      0.58557   \n3          0.711710      7.494  ...              0.86733      0.56624   \n4          0.263218      7.554  ...              0.79579      0.59609   \n..              ...        ...  ...                  ...          ...   \n148        0.891807      3.083  ...                  NaN          NaN   \n149        0.183541      3.334  ...              0.31865      0.54320   \n150        0.810237      3.663  ...              0.15950      0.25429   \n151        0.763417      2.853  ...              0.15781      0.19662   \n152        0.933687      3.203  ...              0.17344      0.16430   \n\n     Corruption Y16  Generosity Y16  Score Y15  GDP Y15  Life Expectancy Y15  \\\n0           0.41004         0.25492      7.413  1.40598              0.81091   \n1           0.44453         0.36171      7.526  1.44178              0.79504   \n2           0.41203         0.28083      7.509  1.52733              0.86303   \n3           0.14975         0.47678      7.501  1.42666              0.86733   \n4           0.35776         0.37895      7.498  1.57744              0.79579   \n..              ...             ...        ...      ...                  ...   \n148             NaN             NaN        NaN      NaN                  NaN   \n149         0.50521         0.23552      3.515  0.32846              0.31865   \n150         0.08582         0.18503      4.193  0.35041              0.15950   \n151         0.13015         0.25899      3.832  0.39394              0.15781   \n152         0.07112         0.31268      3.360  0.38227              0.17344   \n\n     Freedom Y15  Corruption Y15  Generosity Y15  \n0        0.57104         0.41004         0.25492  \n1        0.57941         0.44453         0.36171  \n2        0.58557         0.41203         0.28083  \n3        0.56624         0.14975         0.47678  \n4        0.59609         0.35776         0.37895  \n..           ...             ...             ...  \n148          NaN             NaN             NaN  \n149      0.54320         0.50521         0.23552  \n150      0.25429         0.08582         0.18503  \n151      0.19662         0.13015         0.25899  \n152      0.16430         0.07112         0.31268  \n\n[153 rows x 41 columns]",
      "text/html": "<div>\n<style scoped>\n    .dataframe tbody tr th:only-of-type {\n        vertical-align: middle;\n    }\n\n    .dataframe tbody tr th {\n        vertical-align: top;\n    }\n\n    .dataframe thead th {\n        text-align: right;\n    }\n</style>\n<table border=\"1\" class=\"dataframe\">\n  <thead>\n    <tr style=\"text-align: right;\">\n      <th></th>\n      <th>Country name</th>\n      <th>Regional indicator</th>\n      <th>Score Y20</th>\n      <th>GDP Y20</th>\n      <th>Social support Y20</th>\n      <th>Life expectancy Y20</th>\n      <th>Freedom Y20</th>\n      <th>Generosity Y20</th>\n      <th>Corruption Y20</th>\n      <th>Score Y19</th>\n      <th>...</th>\n      <th>Life Expectancy Y16</th>\n      <th>Freedom Y16</th>\n      <th>Corruption Y16</th>\n      <th>Generosity Y16</th>\n      <th>Score Y15</th>\n      <th>GDP Y15</th>\n      <th>Life Expectancy Y15</th>\n      <th>Freedom Y15</th>\n      <th>Corruption Y15</th>\n      <th>Generosity Y15</th>\n    </tr>\n  </thead>\n  <tbody>\n    <tr>\n      <th>0</th>\n      <td>Finland</td>\n      <td>Western Europe</td>\n      <td>7.8087</td>\n      <td>10.639267</td>\n      <td>0.954330</td>\n      <td>71.900825</td>\n      <td>0.949172</td>\n      <td>-0.059482</td>\n      <td>0.195445</td>\n      <td>7.769</td>\n      <td>...</td>\n      <td>0.81091</td>\n      <td>0.57104</td>\n      <td>0.41004</td>\n      <td>0.25492</td>\n      <td>7.413</td>\n      <td>1.40598</td>\n      <td>0.81091</td>\n      <td>0.57104</td>\n      <td>0.41004</td>\n      <td>0.25492</td>\n    </tr>\n    <tr>\n      <th>1</th>\n      <td>Denmark</td>\n      <td>Western Europe</td>\n      <td>7.6456</td>\n      <td>10.774001</td>\n      <td>0.955991</td>\n      <td>72.402504</td>\n      <td>0.951444</td>\n      <td>0.066202</td>\n      <td>0.168489</td>\n      <td>7.600</td>\n      <td>...</td>\n      <td>0.79504</td>\n      <td>0.57941</td>\n      <td>0.44453</td>\n      <td>0.36171</td>\n      <td>7.526</td>\n      <td>1.44178</td>\n      <td>0.79504</td>\n      <td>0.57941</td>\n      <td>0.44453</td>\n      <td>0.36171</td>\n    </tr>\n    <tr>\n      <th>2</th>\n      <td>Switzerland</td>\n      <td>Western Europe</td>\n      <td>7.5599</td>\n      <td>10.979933</td>\n      <td>0.942847</td>\n      <td>74.102448</td>\n      <td>0.921337</td>\n      <td>0.105911</td>\n      <td>0.303728</td>\n      <td>7.480</td>\n      <td>...</td>\n      <td>0.86303</td>\n      <td>0.58557</td>\n      <td>0.41203</td>\n      <td>0.28083</td>\n      <td>7.509</td>\n      <td>1.52733</td>\n      <td>0.86303</td>\n      <td>0.58557</td>\n      <td>0.41203</td>\n      <td>0.28083</td>\n    </tr>\n    <tr>\n      <th>3</th>\n      <td>Iceland</td>\n      <td>Western Europe</td>\n      <td>7.5045</td>\n      <td>10.772559</td>\n      <td>0.974670</td>\n      <td>73.000000</td>\n      <td>0.948892</td>\n      <td>0.246944</td>\n      <td>0.711710</td>\n      <td>7.494</td>\n      <td>...</td>\n      <td>0.86733</td>\n      <td>0.56624</td>\n      <td>0.14975</td>\n      <td>0.47678</td>\n      <td>7.501</td>\n      <td>1.42666</td>\n      <td>0.86733</td>\n      <td>0.56624</td>\n      <td>0.14975</td>\n      <td>0.47678</td>\n    </tr>\n    <tr>\n      <th>4</th>\n      <td>Norway</td>\n      <td>Western Europe</td>\n      <td>7.4880</td>\n      <td>11.087804</td>\n      <td>0.952487</td>\n      <td>73.200783</td>\n      <td>0.955750</td>\n      <td>0.134533</td>\n      <td>0.263218</td>\n      <td>7.554</td>\n      <td>...</td>\n      <td>0.79579</td>\n      <td>0.59609</td>\n      <td>0.35776</td>\n      <td>0.37895</td>\n      <td>7.498</td>\n      <td>1.57744</td>\n      <td>0.79579</td>\n      <td>0.59609</td>\n      <td>0.35776</td>\n      <td>0.37895</td>\n    </tr>\n    <tr>\n      <th>...</th>\n      <td>...</td>\n      <td>...</td>\n      <td>...</td>\n      <td>...</td>\n      <td>...</td>\n      <td>...</td>\n      <td>...</td>\n      <td>...</td>\n      <td>...</td>\n      <td>...</td>\n      <td>...</td>\n      <td>...</td>\n      <td>...</td>\n      <td>...</td>\n      <td>...</td>\n      <td>...</td>\n      <td>...</td>\n      <td>...</td>\n      <td>...</td>\n      <td>...</td>\n      <td>...</td>\n    </tr>\n    <tr>\n      <th>148</th>\n      <td>Central African Republic</td>\n      <td>Sub-Saharan Africa</td>\n      <td>3.4759</td>\n      <td>6.625160</td>\n      <td>0.319460</td>\n      <td>45.200001</td>\n      <td>0.640881</td>\n      <td>0.082410</td>\n      <td>0.891807</td>\n      <td>3.083</td>\n      <td>...</td>\n      <td>NaN</td>\n      <td>NaN</td>\n      <td>NaN</td>\n      <td>NaN</td>\n      <td>NaN</td>\n      <td>NaN</td>\n      <td>NaN</td>\n      <td>NaN</td>\n      <td>NaN</td>\n      <td>NaN</td>\n    </tr>\n    <tr>\n      <th>149</th>\n      <td>Rwanda</td>\n      <td>Sub-Saharan Africa</td>\n      <td>3.3123</td>\n      <td>7.600104</td>\n      <td>0.540835</td>\n      <td>61.098846</td>\n      <td>0.900589</td>\n      <td>0.055484</td>\n      <td>0.183541</td>\n      <td>3.334</td>\n      <td>...</td>\n      <td>0.31865</td>\n      <td>0.54320</td>\n      <td>0.50521</td>\n      <td>0.23552</td>\n      <td>3.515</td>\n      <td>0.32846</td>\n      <td>0.31865</td>\n      <td>0.54320</td>\n      <td>0.50521</td>\n      <td>0.23552</td>\n    </tr>\n    <tr>\n      <th>150</th>\n      <td>Zimbabwe</td>\n      <td>Sub-Saharan Africa</td>\n      <td>3.2992</td>\n      <td>7.865712</td>\n      <td>0.763093</td>\n      <td>55.617260</td>\n      <td>0.711458</td>\n      <td>-0.072064</td>\n      <td>0.810237</td>\n      <td>3.663</td>\n      <td>...</td>\n      <td>0.15950</td>\n      <td>0.25429</td>\n      <td>0.08582</td>\n      <td>0.18503</td>\n      <td>4.193</td>\n      <td>0.35041</td>\n      <td>0.15950</td>\n      <td>0.25429</td>\n      <td>0.08582</td>\n      <td>0.18503</td>\n    </tr>\n    <tr>\n      <th>151</th>\n      <td>South Sudan</td>\n      <td>Sub-Saharan Africa</td>\n      <td>2.8166</td>\n      <td>7.425360</td>\n      <td>0.553707</td>\n      <td>51.000000</td>\n      <td>0.451314</td>\n      <td>0.016519</td>\n      <td>0.763417</td>\n      <td>2.853</td>\n      <td>...</td>\n      <td>0.15781</td>\n      <td>0.19662</td>\n      <td>0.13015</td>\n      <td>0.25899</td>\n      <td>3.832</td>\n      <td>0.39394</td>\n      <td>0.15781</td>\n      <td>0.19662</td>\n      <td>0.13015</td>\n      <td>0.25899</td>\n    </tr>\n    <tr>\n      <th>152</th>\n      <td>Afghanistan</td>\n      <td>South Asia</td>\n      <td>2.5669</td>\n      <td>7.462861</td>\n      <td>0.470367</td>\n      <td>52.590000</td>\n      <td>0.396573</td>\n      <td>-0.096429</td>\n      <td>0.933687</td>\n      <td>3.203</td>\n      <td>...</td>\n      <td>0.17344</td>\n      <td>0.16430</td>\n      <td>0.07112</td>\n      <td>0.31268</td>\n      <td>3.360</td>\n      <td>0.38227</td>\n      <td>0.17344</td>\n      <td>0.16430</td>\n      <td>0.07112</td>\n      <td>0.31268</td>\n    </tr>\n  </tbody>\n</table>\n<p>153 rows × 41 columns</p>\n</div>"
     },
     "metadata": {},
     "execution_count": 3
    }
   ],
   "source": [
    "happy_df = df_20[['Country name', 'Regional indicator', 'Ladder score', 'Logged GDP per capita', 'Social support', 'Healthy life expectancy','Freedom to make life choices', 'Generosity', 'Perceptions of corruption']]\n",
    "happy_df = happy_df.rename(columns={'Ladder score':'Score Y20','Logged GDP per capita':'GDP Y20','Social support':'Social support Y20', 'Healthy life expectancy':'Life expectancy Y20', 'Freedom to make life choices':'Freedom Y20', 'Generosity':'Generosity Y20', 'Perceptions of corruption':'Corruption Y20'})\n",
    "\n",
    "happy_df = happy_df.merge(df_19[['Country or region', 'Score', 'GDP per capita', 'Social support', 'Healthy life expectancy', 'Freedom to make life choices', 'Generosity', 'Perceptions of corruption']], how='left', left_on='Country name', right_on='Country or region')\n",
    "happy_df = happy_df.drop(columns='Country or region')\n",
    "happy_df = happy_df.rename(columns={'Score':'Score Y19', 'GDP per capita':'GDP Y19', 'Social support':'Social support Y19', 'Healthy life expectancy':'Life expectancy Y19', 'Freedom to make life choices':'Freedom Y19', 'Generosity':'Generosity Y19', 'Perceptions of corruption':'Corruption Y19'})\n",
    "\n",
    "happy_df = happy_df.merge(df_18[['Country or region', 'Score', 'GDP per capita', 'Social support', 'Healthy life expectancy' ,'Freedom to make life choices', 'Generosity', 'Perceptions of corruption']], how='left', left_on='Country name', right_on='Country or region')\n",
    "happy_df = happy_df.drop(columns='Country or region')\n",
    "happy_df = happy_df.rename(columns={'Score':'Score Y18', 'GDP per capita':'GDP Y18', 'Social support':'Social support Y18', 'Healthy life expectancy':'Life expectancy Y18', 'Freedom to make life choices':'Freedom Y18', 'Generosity':'Generosity Y18', 'Perceptions of corruption':'Corruption Y18'})\n",
    "\n",
    "happy_df = happy_df.merge(df_17[['Country', 'Happiness.Score', 'Economy..GDP.per.Capita.', 'Health..Life.Expectancy.', 'Freedom','Generosity', 'Trust..Government.Corruption.']], how='left', left_on='Country name', right_on='Country')\n",
    "happy_df = happy_df.drop(columns='Country')\n",
    "happy_df = happy_df.rename(columns={'Happiness.Score':'Score Y17', 'Economy..GDP.per.Capita.':'GDP Y17', 'Health..Life.Expectancy.':'Life Expectancy Y17', 'Freedom':'Freedom Y17', 'Generosity':'Generosity Y17', 'Trust..Government.Corruption.':'Corruption Y17'})\n",
    "\n",
    "happy_df = happy_df.merge(df_16[['Country', 'Happiness Score', 'Economy (GDP per Capita)', 'Health (Life Expectancy)', 'Freedom', 'Trust (Government Corruption)', 'Generosity']], how='left', left_on='Country name', right_on='Country')\n",
    "happy_df = happy_df.drop(columns='Country')\n",
    "happy_df = happy_df.rename(columns={'Happiness Score':'Score Y16', 'Economy (GDP per Capita)':'GDP Y16', 'Health (Life Expectancy)':'Life Expectancy Y16', 'Freedom':'Freedom Y16', 'Trust (Government Corruption)':'Corruption Y16', 'Generosity':'Generosity Y16'})\n",
    "\n",
    "happy_df = happy_df.merge(df_16[['Country', 'Happiness Score', 'Economy (GDP per Capita)', 'Health (Life Expectancy)', 'Freedom', 'Trust (Government Corruption)', 'Generosity']], how='left', left_on='Country name', right_on='Country')\n",
    "happy_df = happy_df.drop(columns='Country')\n",
    "happy_df = happy_df.rename(columns={'Happiness Score':'Score Y15', 'Economy (GDP per Capita)':'GDP Y15', 'Health (Life Expectancy)':'Life Expectancy Y15', 'Freedom':'Freedom Y15', 'Trust (Government Corruption)':'Corruption Y15', 'Generosity':'Generosity Y15'})\n",
    "\n",
    "happy_df"
   ]
  },
  {
   "cell_type": "code",
   "execution_count": 4,
   "metadata": {},
   "outputs": [],
   "source": [
    "happy_df.to_csv(os.path.join('Data','TheHappyCo.csv'))"
   ]
  },
  {
   "cell_type": "code",
   "execution_count": null,
   "metadata": {},
   "outputs": [],
   "source": []
  }
 ],
 "metadata": {
  "kernelspec": {
   "display_name": "Python 3",
   "language": "python",
   "name": "python3"
  },
  "language_info": {
   "codemirror_mode": {
    "name": "ipython",
    "version": 3
   },
   "file_extension": ".py",
   "mimetype": "text/x-python",
   "name": "python",
   "nbconvert_exporter": "python",
   "pygments_lexer": "ipython3",
   "version": "3.8.2-final"
  }
 },
 "nbformat": 4,
 "nbformat_minor": 4
}