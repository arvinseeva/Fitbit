{
 "cells": [
  {
   "cell_type": "code",
   "execution_count": null,
   "metadata": {},
   "outputs": [],
   "source": [
    "#This Jupyter Notebook is a result of our collaboration\n",
    "import pandas as pd\n",
    "import os\n"
   ]
  },
  {
   "cell_type": "code",
   "execution_count": null,
   "metadata": {},
   "outputs": [],
   "source": [
    "folder = 'Resources'\n",
    "\n",
    "df_20 = pd.read_csv(os.path.join(folder,'2020.csv'))\n",
    "df_19 = pd.read_csv(os.path.join(folder,'2019.csv'))\n",
    "df_18 = pd.read_csv(os.path.join(folder,'2018.csv'))\n",
    "df_17 = pd.read_csv(os.path.join(folder,'2017.csv'))\n",
    "df_16 = pd.read_csv(os.path.join(folder,'2016.csv'))\n",
    "df_15 = pd.read_csv(os.path.join(folder,'2015.csv'))"
   ]
  },
  {
   "cell_type": "code",
   "execution_count": null,
   "metadata": {},
   "outputs": [],
   "source": [
    "happy_df = df_20[['Country name', 'Regional indicator', 'Ladder score', 'Logged GDP per capita', 'Social support', 'Healthy life expectancy','Freedom to make life choices', 'Generosity', 'Perceptions of corruption']]\n",
    "happy_df = happy_df.rename(columns={'Ladder score':'Score Y20','Logged GDP per capita':'GDP Y20','Social support':'Social support Y20', 'Healthy life expectancy':'Life expectancy Y20', 'Freedom to make life choices':'Freedom Y20', 'Generosity':'Generosity Y20', 'Perceptions of corruption':'Corruption Y20'})\n",
    "\n",
    "happy_df = happy_df.merge(df_19[['Country or region', 'Score', 'GDP per capita', 'Social support', 'Healthy life expectancy', 'Freedom to make life choices', 'Generosity', 'Perceptions of corruption']], how='left', left_on='Country name', right_on='Country or region')\n",
    "happy_df = happy_df.drop(columns='Country or region')\n",
    "happy_df = happy_df.rename(columns={'Score':'Score Y19', 'GDP per capita':'GDP Y19', 'Social support':'Social support Y19', 'Healthy life expectancy':'Life expectancy Y19', 'Freedom to make life choices':'Freedom Y19', 'Generosity':'Generosity Y19', 'Perceptions of corruption':'Corruption Y19'})\n",
    "\n",
    "happy_df = happy_df.merge(df_18[['Country or region', 'Score', 'GDP per capita', 'Social support', 'Healthy life expectancy' ,'Freedom to make life choices', 'Generosity', 'Perceptions of corruption']], how='left', left_on='Country name', right_on='Country or region')\n",
    "happy_df = happy_df.drop(columns='Country or region')\n",
    "happy_df = happy_df.rename(columns={'Score':'Score Y18', 'GDP per capita':'GDP Y18', 'Social support':'Social support Y18', 'Healthy life expectancy':'Life expectancy Y18', 'Freedom to make life choices':'Freedom Y18', 'Generosity':'Generosity Y18', 'Perceptions of corruption':'Corruption Y18'})\n",
    "\n",
    "happy_df = happy_df.merge(df_17[['Country', 'Happiness.Score', 'Economy..GDP.per.Capita.', 'Health..Life.Expectancy.', 'Freedom','Generosity', 'Trust..Government.Corruption.']], how='left', left_on='Country name', right_on='Country')\n",
    "happy_df = happy_df.drop(columns='Country')\n",
    "happy_df = happy_df.rename(columns={'Happiness.Score':'Score Y17', 'Economy..GDP.per.Capita.':'GDP Y17', 'Health..Life.Expectancy.':'Life Expectancy Y17', 'Freedom':'Freedom Y17', 'Generosity':'Generosity Y17', 'Trust..Government.Corruption.':'Corruption Y17'})\n",
    "\n",
    "happy_df = happy_df.merge(df_16[['Country', 'Happiness Score', 'Economy (GDP per Capita)', 'Health (Life Expectancy)', 'Freedom', 'Trust (Government Corruption)', 'Generosity']], how='left', left_on='Country name', right_on='Country')\n",
    "happy_df = happy_df.drop(columns='Country')\n",
    "happy_df = happy_df.rename(columns={'Happiness Score':'Score Y16', 'Economy (GDP per Capita)':'GDP Y16', 'Health (Life Expectancy)':'Life Expectancy Y16', 'Freedom':'Freedom Y16', 'Trust (Government Corruption)':'Corruption Y16', 'Generosity':'Generosity Y16'})\n",
    "\n",
    "happy_df = happy_df.merge(df_16[['Country', 'Happiness Score', 'Economy (GDP per Capita)', 'Health (Life Expectancy)', 'Freedom', 'Trust (Government Corruption)', 'Generosity']], how='left', left_on='Country name', right_on='Country')\n",
    "happy_df = happy_df.drop(columns='Country')\n",
    "happy_df = happy_df.rename(columns={'Happiness Score':'Score Y15', 'Economy (GDP per Capita)':'GDP Y15', 'Health (Life Expectancy)':'Life Expectancy Y15', 'Freedom':'Freedom Y15', 'Trust (Government Corruption)':'Corruption Y15', 'Generosity':'Generosity Y15'})\n",
    "\n",
    "happy_df"
   ]
  },
  {
   "cell_type": "code",
   "execution_count": null,
   "metadata": {},
   "outputs": [],
   "source": [
    "happy_df.to_csv(os.path.join('Data','TheHappyCo.csv'))"
   ]
  },
  {
   "cell_type": "code",
   "execution_count": null,
   "metadata": {},
   "outputs": [],
   "source": []
  }
 ],
 "metadata": {
  "kernelspec": {
   "display_name": "Python 3",
   "language": "python",
   "name": "python3"
  },
  "language_info": {
   "codemirror_mode": {
    "name": "ipython",
    "version": 3
   },
   "file_extension": ".py",
   "mimetype": "text/x-python",
   "name": "python",
   "nbconvert_exporter": "python",
   "pygments_lexer": "ipython3",
   "version": "3.8.2-final"
  }
 },
 "nbformat": 4,
 "nbformat_minor": 4
}