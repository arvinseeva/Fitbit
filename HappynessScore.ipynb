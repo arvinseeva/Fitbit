{
 "cells": [
  {
   "cell_type": "code",
   "execution_count": 1,
   "metadata": {},
   "outputs": [],
   "source": [
    "#This Jupyter Notebook is a result of our collaboration\n",
    "import pandas as pd\n",
    "import os\n"
   ]
  },
  {
   "cell_type": "code",
   "execution_count": 2,
   "metadata": {},
   "outputs": [],
   "source": [
    "folder = 'Resources'\n",
    "\n",
    "df_20 = pd.read_csv(os.path.join(folder,'2020.csv'))\n",
    "df_19 = pd.read_csv(os.path.join(folder,'2019.csv'))\n",
    "df_18 = pd.read_csv(os.path.join(folder,'2018.csv'))\n",
    "df_17 = pd.read_csv(os.path.join(folder,'2017.csv'))\n",
    "df_16 = pd.read_csv(os.path.join(folder,'2016.csv'))\n",
    "df_15 = pd.read_csv(os.path.join(folder,'2015.csv'))"
   ]
  },
  {
   "cell_type": "code",
   "execution_count": 3,
   "metadata": {},
   "outputs": [
    {
     "output_type": "execute_result",
     "data": {
      "text/plain": "                 Country name  Regional indicator  Score 2020  Score 2019  \\\n0                     Finland      Western Europe      7.8087       7.769   \n1                     Denmark      Western Europe      7.6456       7.600   \n2                 Switzerland      Western Europe      7.5599       7.480   \n3                     Iceland      Western Europe      7.5045       7.494   \n4                      Norway      Western Europe      7.4880       7.554   \n..                        ...                 ...         ...         ...   \n148  Central African Republic  Sub-Saharan Africa      3.4759       3.083   \n149                    Rwanda  Sub-Saharan Africa      3.3123       3.334   \n150                  Zimbabwe  Sub-Saharan Africa      3.2992       3.663   \n151               South Sudan  Sub-Saharan Africa      2.8166       2.853   \n152               Afghanistan          South Asia      2.5669       3.203   \n\n     Score 2018  Score 2017  Score 2016  Score 2015  \n0         7.632       7.469       7.413       7.413  \n1         7.555       7.522       7.526       7.526  \n2         7.487       7.494       7.509       7.509  \n3         7.495       7.504       7.501       7.501  \n4         7.594       7.537       7.498       7.498  \n..          ...         ...         ...         ...  \n148       3.083       2.693         NaN         NaN  \n149       3.408       3.471       3.515       3.515  \n150       3.692       3.875       4.193       4.193  \n151       3.254       3.591       3.832       3.832  \n152       3.632       3.794       3.360       3.360  \n\n[153 rows x 8 columns]",
      "text/html": "<div>\n<style scoped>\n    .dataframe tbody tr th:only-of-type {\n        vertical-align: middle;\n    }\n\n    .dataframe tbody tr th {\n        vertical-align: top;\n    }\n\n    .dataframe thead th {\n        text-align: right;\n    }\n</style>\n<table border=\"1\" class=\"dataframe\">\n  <thead>\n    <tr style=\"text-align: right;\">\n      <th></th>\n      <th>Country name</th>\n      <th>Regional indicator</th>\n      <th>Score 2020</th>\n      <th>Score 2019</th>\n      <th>Score 2018</th>\n      <th>Score 2017</th>\n      <th>Score 2016</th>\n      <th>Score 2015</th>\n    </tr>\n  </thead>\n  <tbody>\n    <tr>\n      <th>0</th>\n      <td>Finland</td>\n      <td>Western Europe</td>\n      <td>7.8087</td>\n      <td>7.769</td>\n      <td>7.632</td>\n      <td>7.469</td>\n      <td>7.413</td>\n      <td>7.413</td>\n    </tr>\n    <tr>\n      <th>1</th>\n      <td>Denmark</td>\n      <td>Western Europe</td>\n      <td>7.6456</td>\n      <td>7.600</td>\n      <td>7.555</td>\n      <td>7.522</td>\n      <td>7.526</td>\n      <td>7.526</td>\n    </tr>\n    <tr>\n      <th>2</th>\n      <td>Switzerland</td>\n      <td>Western Europe</td>\n      <td>7.5599</td>\n      <td>7.480</td>\n      <td>7.487</td>\n      <td>7.494</td>\n      <td>7.509</td>\n      <td>7.509</td>\n    </tr>\n    <tr>\n      <th>3</th>\n      <td>Iceland</td>\n      <td>Western Europe</td>\n      <td>7.5045</td>\n      <td>7.494</td>\n      <td>7.495</td>\n      <td>7.504</td>\n      <td>7.501</td>\n      <td>7.501</td>\n    </tr>\n    <tr>\n      <th>4</th>\n      <td>Norway</td>\n      <td>Western Europe</td>\n      <td>7.4880</td>\n      <td>7.554</td>\n      <td>7.594</td>\n      <td>7.537</td>\n      <td>7.498</td>\n      <td>7.498</td>\n    </tr>\n    <tr>\n      <th>...</th>\n      <td>...</td>\n      <td>...</td>\n      <td>...</td>\n      <td>...</td>\n      <td>...</td>\n      <td>...</td>\n      <td>...</td>\n      <td>...</td>\n    </tr>\n    <tr>\n      <th>148</th>\n      <td>Central African Republic</td>\n      <td>Sub-Saharan Africa</td>\n      <td>3.4759</td>\n      <td>3.083</td>\n      <td>3.083</td>\n      <td>2.693</td>\n      <td>NaN</td>\n      <td>NaN</td>\n    </tr>\n    <tr>\n      <th>149</th>\n      <td>Rwanda</td>\n      <td>Sub-Saharan Africa</td>\n      <td>3.3123</td>\n      <td>3.334</td>\n      <td>3.408</td>\n      <td>3.471</td>\n      <td>3.515</td>\n      <td>3.515</td>\n    </tr>\n    <tr>\n      <th>150</th>\n      <td>Zimbabwe</td>\n      <td>Sub-Saharan Africa</td>\n      <td>3.2992</td>\n      <td>3.663</td>\n      <td>3.692</td>\n      <td>3.875</td>\n      <td>4.193</td>\n      <td>4.193</td>\n    </tr>\n    <tr>\n      <th>151</th>\n      <td>South Sudan</td>\n      <td>Sub-Saharan Africa</td>\n      <td>2.8166</td>\n      <td>2.853</td>\n      <td>3.254</td>\n      <td>3.591</td>\n      <td>3.832</td>\n      <td>3.832</td>\n    </tr>\n    <tr>\n      <th>152</th>\n      <td>Afghanistan</td>\n      <td>South Asia</td>\n      <td>2.5669</td>\n      <td>3.203</td>\n      <td>3.632</td>\n      <td>3.794</td>\n      <td>3.360</td>\n      <td>3.360</td>\n    </tr>\n  </tbody>\n</table>\n<p>153 rows × 8 columns</p>\n</div>"
     },
     "metadata": {},
     "execution_count": 3
    }
   ],
   "source": [
    "happy_df = df_20[['Country name', 'Regional indicator', 'Ladder score']]\n",
    "happy_df = happy_df.rename(columns={'Ladder score':'Score 2020'})\n",
    "\n",
    "happy_df = happy_df.merge(df_19[['Country or region', 'Score']], how='left', left_on='Country name', right_on='Country or region')\n",
    "happy_df = happy_df.drop(columns='Country or region')\n",
    "happy_df = happy_df.rename(columns={'Score':'Score 2019'})\n",
    "\n",
    "happy_df = happy_df.merge(df_18[['Country or region', 'Score']], how='left', left_on='Country name', right_on='Country or region')\n",
    "happy_df = happy_df.drop(columns='Country or region')\n",
    "happy_df = happy_df.rename(columns={'Score':'Score 2018'})\n",
    "\n",
    "happy_df = happy_df.merge(df_17[['Country', 'Happiness.Score']], how='left', left_on='Country name', right_on='Country')\n",
    "happy_df = happy_df.drop(columns='Country')\n",
    "happy_df = happy_df.rename(columns={'Happiness.Score':'Score 2017'})\n",
    "\n",
    "happy_df = happy_df.merge(df_16[['Country', 'Happiness Score']], how='left', left_on='Country name', right_on='Country')\n",
    "happy_df = happy_df.drop(columns='Country')\n",
    "happy_df = happy_df.rename(columns={'Happiness Score':'Score 2016'})\n",
    "\n",
    "happy_df = happy_df.merge(df_16[['Country', 'Happiness Score']], how='left', left_on='Country name', right_on='Country')\n",
    "happy_df = happy_df.drop(columns='Country')\n",
    "happy_df = happy_df.rename(columns={'Happiness Score':'Score 2015'})\n",
    "\n",
    "happy_df"
   ]
  },
  {
   "cell_type": "code",
   "execution_count": null,
   "metadata": {},
   "outputs": [],
   "source": []
  }
 ],
 "metadata": {
  "kernelspec": {
   "display_name": "Python 3",
   "language": "python",
   "name": "python3"
  },
  "language_info": {
   "codemirror_mode": {
    "name": "ipython",
    "version": 3
   },
   "file_extension": ".py",
   "mimetype": "text/x-python",
   "name": "python",
   "nbconvert_exporter": "python",
   "pygments_lexer": "ipython3",
   "version": "3.8.2-final"
  }
 },
 "nbformat": 4,
 "nbformat_minor": 4
}