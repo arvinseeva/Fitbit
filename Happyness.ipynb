{
 "cells": [
  {
   "cell_type": "code",
   "execution_count": null,
   "metadata": {},
   "outputs": [],
   "source": [
    "#This Jupyter Notebook is a result of our collaboration"
   ]
  },
  {
   "cell_type": "code",
   "execution_count": null,
   "metadata": {},
   "outputs": [],
   "source": [
    "import pandas as pd\n",
    "import gmaps\n",
    "from config import gkey"
   ]
  },
  {
   "cell_type": "code",
   "execution_count": null,
   "metadata": {},
   "outputs": [],
   "source": [
    "df1 = pd.read_csv(\"../Resources/2015.csv\")\n",
    "df2 = pd.read_csv(\"../Resources/2016.csv\")\n",
    "df3 = pd.read_csv(\"../Resources/2017.csv\")\n",
    "df4 = pd.read_csv(\"../Resources/2018.csv\")\n",
    "df5 = pd.read_csv(\"../Resources/2019.csv\")\n",
    "df6 = pd.read_csv(\"../Resources/2020.csv\")"
   ]
  }
 ],
 "metadata": {
  "kernelspec": {
   "display_name": "Python 3",
   "language": "python",
   "name": "python3"
  },
  "language_info": {
   "codemirror_mode": {
    "name": "ipython",
    "version": 3
   },
   "file_extension": ".py",
   "mimetype": "text/x-python",
   "name": "python",
   "nbconvert_exporter": "python",
   "pygments_lexer": "ipython3",
   "version": "3.7.6"
  }
 },
 "nbformat": 4,
 "nbformat_minor": 4
}
